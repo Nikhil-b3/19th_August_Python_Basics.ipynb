{
 "cells": [
  {
   "cell_type": "code",
   "execution_count": 53,
   "id": "534d4980-edf6-476e-80b8-44b88deb346e",
   "metadata": {},
   "outputs": [],
   "source": [
    "# This is Python Basics ASsignment:-"
   ]
  },
  {
   "cell_type": "code",
   "execution_count": null,
   "id": "e07209f5-1d3e-4191-846c-ad83e96d58a3",
   "metadata": {},
   "outputs": [],
   "source": []
  },
  {
   "cell_type": "code",
   "execution_count": 43,
   "id": "e7de957f-f9a2-4abf-ac5f-084f6b9d4a26",
   "metadata": {},
   "outputs": [],
   "source": [
    "# Topic Python Basic Variable :-"
   ]
  },
  {
   "cell_type": "code",
   "execution_count": 30,
   "id": "3de3f39a-ad73-4dc4-86ce-767e8b4d532f",
   "metadata": {},
   "outputs": [],
   "source": [
    "# ANSWER ! :-"
   ]
  },
  {
   "cell_type": "code",
   "execution_count": 41,
   "id": "9339ab1b-2f96-4298-9365-1a88cafe6416",
   "metadata": {},
   "outputs": [
    {
     "name": "stdout",
     "output_type": "stream",
     "text": [
      "3\n",
      "2\n"
     ]
    }
   ],
   "source": [
    "x = 2\n",
    "y = 3\n",
    "\n",
    "# Now we will interchange value of x AND Y\n",
    "\n",
    "x = x + y\n",
    "y = x - y\n",
    "x = x - y\n",
    "\n",
    "print(x)\n",
    "print(y)"
   ]
  },
  {
   "cell_type": "code",
   "execution_count": null,
   "id": "a856a830-8e47-4636-ad0c-109e2d29dccd",
   "metadata": {},
   "outputs": [],
   "source": []
  },
  {
   "cell_type": "code",
   "execution_count": 54,
   "id": "dcee4478-08a9-4f0e-ae43-c59fa6759f99",
   "metadata": {},
   "outputs": [],
   "source": [
    "# ANswer 2 :-"
   ]
  },
  {
   "cell_type": "code",
   "execution_count": 40,
   "id": "ec1c8d05-6921-4842-8ba0-171582a0d5eb",
   "metadata": {},
   "outputs": [
    {
     "name": "stdin",
     "output_type": "stream",
     "text": [
      "Enter Length of Rectangle 5\n",
      "Enter Bredth of Rectangle 4\n"
     ]
    },
    {
     "name": "stdout",
     "output_type": "stream",
     "text": [
      "Area of Rectangle is 20.0\n"
     ]
    }
   ],
   "source": [
    "l = float(input(\"Enter Length of Rectangle\"))\n",
    "\n",
    "b = float(input(\"Enter Bredth of Rectangle\"))\n",
    "\n",
    "R = print(\"Area of Rectangle is\",l * b)"
   ]
  },
  {
   "cell_type": "code",
   "execution_count": null,
   "id": "070f6138-4cd0-4170-9c91-6715e93476d9",
   "metadata": {},
   "outputs": [],
   "source": []
  },
  {
   "cell_type": "code",
   "execution_count": 50,
   "id": "27817b4d-3e2a-479b-a6c0-a6086c316f83",
   "metadata": {},
   "outputs": [],
   "source": [
    "#Answer 3 :-"
   ]
  },
  {
   "cell_type": "code",
   "execution_count": 39,
   "id": "91209a5c-607a-47ac-9ec1-b38715fbdfe3",
   "metadata": {},
   "outputs": [
    {
     "name": "stdin",
     "output_type": "stream",
     "text": [
      "Enter the temperature in Celsius 100\n"
     ]
    },
    {
     "name": "stdout",
     "output_type": "stream",
     "text": [
      "The Fahrenheit will be 180.0\n"
     ]
    }
   ],
   "source": [
    "c = float(input(\"Enter the temperature in Celsius\"))\n",
    "\n",
    "f = (9/5) * c \n",
    "\n",
    "print(\"The Fahrenheit will be\",f) "
   ]
  },
  {
   "cell_type": "code",
   "execution_count": null,
   "id": "a3794682-18a5-4131-9f1c-a624b6ea07e6",
   "metadata": {},
   "outputs": [],
   "source": []
  },
  {
   "cell_type": "code",
   "execution_count": 42,
   "id": "39e7ba6b-cbca-4146-9364-99a2baaf9994",
   "metadata": {},
   "outputs": [],
   "source": [
    "# Topic : String Based Questions: "
   ]
  },
  {
   "cell_type": "code",
   "execution_count": 45,
   "id": "23124d9e-e9b9-405b-9987-d57e22df7bc6",
   "metadata": {},
   "outputs": [],
   "source": [
    "# Answer 1 :-"
   ]
  },
  {
   "cell_type": "code",
   "execution_count": 38,
   "id": "4a7a9de8-63f8-4472-b197-bca6a102fefb",
   "metadata": {},
   "outputs": [
    {
     "name": "stdin",
     "output_type": "stream",
     "text": [
      "Enter string to know its length hey bro\n"
     ]
    },
    {
     "data": {
      "text/plain": [
       "7"
      ]
     },
     "execution_count": 38,
     "metadata": {},
     "output_type": "execute_result"
    }
   ],
   "source": [
    "st = input(\"Enter string to know its length\")\n",
    "\n",
    "len(st)  #len function is used to know length of string"
   ]
  },
  {
   "cell_type": "code",
   "execution_count": null,
   "id": "73415731-da3b-4d67-aad2-f9a5ea16c11b",
   "metadata": {},
   "outputs": [],
   "source": []
  },
  {
   "cell_type": "code",
   "execution_count": 51,
   "id": "916cc3ac-35af-4af8-bad3-3d5b00600287",
   "metadata": {},
   "outputs": [],
   "source": [
    "# Answer 2"
   ]
  },
  {
   "cell_type": "code",
   "execution_count": 36,
   "id": "933d82c5-5270-4dbb-bb86-78f7a5826a64",
   "metadata": {},
   "outputs": [
    {
     "name": "stdin",
     "output_type": "stream",
     "text": [
      "Enter any sentence to count number of vowels aeiou hhh ee\n"
     ]
    },
    {
     "name": "stdout",
     "output_type": "stream",
     "text": [
      "7\n"
     ]
    }
   ],
   "source": [
    "i=0\n",
    "\n",
    "j=input(\"Enter any sentence to count number of vowels\")\n",
    "\n",
    "for k in j:\n",
    "    if k in 'aeiou':\n",
    "        i+=1\n",
    "print(i)"
   ]
  },
  {
   "cell_type": "code",
   "execution_count": null,
   "id": "e7ad7a32-51d4-4979-9c7d-4b6f8843927c",
   "metadata": {},
   "outputs": [],
   "source": []
  },
  {
   "cell_type": "code",
   "execution_count": 12,
   "id": "fb1c684a-1870-4469-91d7-4cbe53270932",
   "metadata": {},
   "outputs": [],
   "source": [
    "# Answer 3 :-"
   ]
  },
  {
   "cell_type": "code",
   "execution_count": 34,
   "id": "8cd7be05-0727-436a-af29-624c92751457",
   "metadata": {},
   "outputs": [
    {
     "data": {
      "text/plain": [
       "'lihkin'"
      ]
     },
     "execution_count": 34,
     "metadata": {},
     "output_type": "execute_result"
    }
   ],
   "source": [
    "given = 'nikhil'\n",
    "given[6:-7:-1]"
   ]
  },
  {
   "cell_type": "code",
   "execution_count": null,
   "id": "9a264a26-9900-48e0-b2e9-a12869d2d4e7",
   "metadata": {},
   "outputs": [],
   "source": []
  },
  {
   "cell_type": "code",
   "execution_count": 20,
   "id": "69d0d902-fedc-40db-b084-d60817eca4c8",
   "metadata": {},
   "outputs": [],
   "source": [
    "# Answer 4 :-"
   ]
  },
  {
   "cell_type": "code",
   "execution_count": 46,
   "id": "17970d15-9bf7-4bd4-9ef7-2287a4707038",
   "metadata": {},
   "outputs": [
    {
     "name": "stdin",
     "output_type": "stream",
     "text": [
      "Enter string noon\n"
     ]
    },
    {
     "name": "stdout",
     "output_type": "stream",
     "text": [
      "The Given String is Palindrome\n"
     ]
    }
   ],
   "source": [
    "giv2 = input(\"Enter string\")\n",
    "\n",
    "if giv2[(len(giv2)-1) : -(len(giv2)+1) : -1] == giv2:\n",
    "    print(\"The Given String is Palindrome\")\n",
    "else:\n",
    "    print(\"The Given String is not Palindrome\")"
   ]
  },
  {
   "cell_type": "code",
   "execution_count": null,
   "id": "f4ca6182-5bb3-4d00-82e9-50d99574330f",
   "metadata": {},
   "outputs": [],
   "source": []
  },
  {
   "cell_type": "code",
   "execution_count": 47,
   "id": "6498304d-1ee0-4026-8e05-acd7a0470fcc",
   "metadata": {},
   "outputs": [],
   "source": [
    "# Answer 5 :-"
   ]
  },
  {
   "cell_type": "code",
   "execution_count": 52,
   "id": "e4faa970-ecdb-4fae-b058-710fcd268ea5",
   "metadata": {},
   "outputs": [
    {
     "name": "stdin",
     "output_type": "stream",
     "text": [
      "Enter any string i will provide it without spaces in between hey there\n"
     ]
    },
    {
     "data": {
      "text/plain": [
       "'heythere'"
      ]
     },
     "execution_count": 52,
     "metadata": {},
     "output_type": "execute_result"
    }
   ],
   "source": [
    "giv10 = input(\"Enter any string i will provide it without spaces in between\")\n",
    "\n",
    "\"\".join(giv10.split())\n"
   ]
  }
 ],
 "metadata": {
  "kernelspec": {
   "display_name": "Python 3 (ipykernel)",
   "language": "python",
   "name": "python3"
  },
  "language_info": {
   "codemirror_mode": {
    "name": "ipython",
    "version": 3
   },
   "file_extension": ".py",
   "mimetype": "text/x-python",
   "name": "python",
   "nbconvert_exporter": "python",
   "pygments_lexer": "ipython3",
   "version": "3.10.8"
  }
 },
 "nbformat": 4,
 "nbformat_minor": 5
}
